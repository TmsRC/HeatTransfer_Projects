{
 "cells": [
  {
   "cell_type": "code",
   "execution_count": 1,
   "metadata": {},
   "outputs": [],
   "source": [
    "import numpy as np\n",
    "import matplotlib.pyplot as plt\n",
    "import time"
   ]
  },
  {
   "cell_type": "code",
   "execution_count": 2,
   "metadata": {},
   "outputs": [],
   "source": [
    "k = 1\n",
    "h = 0.2\n",
    "B0 = 0\n",
    "B1 = 0.3\n",
    "w = 1\n",
    "L = 1\n",
    "theta_B = 80\n",
    "\n",
    "nodos = 20"
   ]
  },
  {
   "cell_type": "code",
   "execution_count": 4,
   "metadata": {},
   "outputs": [],
   "source": [
    "def eficiencia(perfil):\n",
    "    perfil_inferior = B1*(1-np.linspace(0,1,nodos))\n",
    "    P = 2*(perfil+perfil_inferior+w)\n",
    "    A = (perfil_inferior+perfil)*w\n",
    "    dx = L/nodos\n",
    "\n",
    "    coeficientes = np.zeros((nodos,nodos))\n",
    "    coeficientes[0,0] = 1 #Theta(0) = Theta_B\n",
    "    \n",
    "    coeficientes[-1,-1] = 3\n",
    "    coeficientes[-1,-2] = -4\n",
    "    coeficientes[-1,-3] = 1 #theta_i-2 - 4theta_i-1 + 3theta_i = 2theta_prima*deltaX\n",
    "\n",
    "    constantes = np.zeros(nodos)\n",
    "    constantes[0] = theta_B\n",
    "\n",
    "    for i in range(1,nodos-1):\n",
    "\n",
    "        coeficientes[i,i] = -2*A[i] - h*P[i]*dx**2/k\n",
    "        coeficientes[i,i-1] = A[i]-(A[i+1]-A[i-1])/4\n",
    "        coeficientes[i,i+1] = A[i]+(A[i+1]-A[i-1])/4\n",
    "\n",
    "    A_inv = np.linalg.inv(coeficientes)\n",
    "    Thetas = np.matmul(A_inv,constantes)\n",
    "    \n",
    "    Q = np.trapz(h*P*Thetas,np.linspace(0,L,nodos))\n",
    "    Qm = np.trapz(h*P*theta_B,np.linspace(0,L,nodos))\n",
    "    Eta = Q/Qm\n",
    "    return Eta #, Thetas"
   ]
  },
  {
   "cell_type": "code",
   "execution_count": 6,
   "metadata": {},
   "outputs": [
    {
     "name": "stdout",
     "output_type": "stream",
     "text": [
      "0.7729403092589769\n"
     ]
    }
   ],
   "source": [
    "# print(eficiencia(B0*np.ones(nodos)))\n",
    "# print(eficiencia(B0*(1-np.linspace(0,1,nodos))))\n",
    "\n",
    "etaRect = eficiencia(B1-np.linspace(0,B1,nodos))\n",
    "print(etaTri,et)"
   ]
  },
  {
   "cell_type": "code",
   "execution_count": 5,
   "metadata": {},
   "outputs": [
    {
     "name": "stdout",
     "output_type": "stream",
     "text": [
      "Tiempo por iteración = 0.00\n",
      "Iteraciones = 196577; Tiempo = 838.329238653183\n"
     ]
    }
   ],
   "source": [
    "tiempo0 = time.time()\n",
    "\n",
    "perfil_prueba = B0*np.ones(nodos)\n",
    "paso = 0.01\n",
    "cambio = []\n",
    "etas = []\n",
    "cte_gradiente = 0.1\n",
    "iteraciones = 0\n",
    "\n",
    "eta = 0\n",
    "eta_nuevo = 1\n",
    "gradiente = np.zeros(nodos)\n",
    "\n",
    "while eta_nuevo > eta:\n",
    "    \n",
    "    perfil_prueba = perfil_prueba+gradiente\n",
    "    iteraciones += 1\n",
    "    gradiente = [0]\n",
    "    eta,thetas = eficiencia(perfil_prueba)\n",
    "    etas.append(eta)\n",
    "    for i in range(1,nodos):\n",
    "        \n",
    "        perfil_nuevo = perfil_prueba.copy()\n",
    "        perfil_nuevo[i] += paso\n",
    "        eta_i,thetas = eficiencia(perfil_nuevo)\n",
    "        nabla_i = (eta_i-eta)\n",
    "        #nabla_i *= (1.*(nabla_i<0))#*(1.*(perfil_nuevo[i]>0))\n",
    "        if nabla_i*cte_gradiente + perfil_prueba[i] <= 0 or nabla_i*cte_gradiente+perfil_prueba[i]>B0:\n",
    "            nabla_i = 0\n",
    "        gradiente.append(nabla_i)\n",
    "\n",
    "    \n",
    "    gradiente = np.array(gradiente)*cte_gradiente\n",
    "    norma_nabla = np.sqrt(np.sum(np.square(gradiente)))\n",
    "    cambio.append(norma_nabla)\n",
    "    #print(cambio)\n",
    "    eta_nuevo,thetas = eficiencia(perfil_prueba+gradiente)\n",
    "    if iteraciones>20000:\n",
    "        break\n",
    "    #iteraciones += 1.\n",
    "    \n",
    "#     if iteraciones > 1000:\n",
    "#         break\n",
    "\n",
    "print('Tiempo por iteración = {:.2f}'.format((time.time()-tiempo0)/iteraciones))\n",
    "print('Iteraciones = ' + str(iteraciones) + '; Tiempo = ' + str(time.time()-tiempo0))"
   ]
  },
  {
   "cell_type": "code",
   "execution_count": 6,
   "metadata": {},
   "outputs": [
    {
     "name": "stdout",
     "output_type": "stream",
     "text": [
      "0.031301305165719384\n",
      "[1.00000000e+00 1.00000000e+00 1.00000000e+00 1.00000000e+00\n",
      " 1.00000000e+00 9.99997759e-01 9.99983240e-01 9.99893533e-01\n",
      " 9.84554755e-01 8.07930134e-01 5.91765396e-01 4.29562467e-01\n",
      " 3.06364916e-01 4.28017624e-01 9.99959833e-01 2.98204503e-05\n",
      " 8.61368429e-06 7.35929951e-01 3.50639388e-06 3.33951297e-02]\n"
     ]
    },
    {
     "data": {
      "image/png": "[encoded data removed]",
      "text/plain": [
       "<Figure size 432x288 with 1 Axes>"
      ]
     },
     "metadata": {
      "needs_background": "light"
     },
     "output_type": "display_data"
    },
    {
     "data": {
      "image/png": "[encoded data removed]",
      "text/plain": [
       "<Figure size 432x288 with 1 Axes>"
      ]
     },
     "metadata": {
      "needs_background": "light"
     },
     "output_type": "display_data"
    }
   ],
   "source": [
    "eta,thetas = eficiencia(perfil_prueba)\n",
    "\n",
    "plt.figure()\n",
    "plt.plot(np.linspace(0,L,20),perfil_prueba)\n",
    "plt.plot(np.linspace(0,L,20),B0*np.ones(nodos))\n",
    "plt.ylim(-0.5,1.1)\n",
    "plt.title('$\\eta$ = {:.2f}'.format(eta))\n",
    "print(norma_nabla)\n",
    "\n",
    "plt.figure()\n",
    "plt.plot(np.linspace(1,len(cambio),len(cambio)),cambio,label='Magnitud del gradiente')\n",
    "plt.plot(np.linspace(1,len(cambio),len(cambio)),etas,label = 'Eficiencia')\n",
    "plt.title('Eficiencia y Gradiente en cada iteración')\n",
    "plt.legend(loc=1)\n",
    "\n",
    "print(perfil_prueba)"
   ]
  },
  {
   "cell_type": "code",
   "execution_count": 7,
   "metadata": {},
   "outputs": [
    {
     "name": "stdout",
     "output_type": "stream",
     "text": [
      "0.8160570252342576\n"
     ]
    },
    {
     "data": {
      "text/plain": [
       "Text(0.5, 1.0, '$\\\\eta$ = 0.93')"
      ]
     },
     "execution_count": 7,
     "metadata": {},
     "output_type": "execute_result"
    },
    {
     "data": {
      "image/png": "[encoded data removed]",
      "text/plain": [
       "<Figure size 432x288 with 1 Axes>"
      ]
     },
     "metadata": {
      "needs_background": "light"
     },
     "output_type": "display_data"
    }
   ],
   "source": [
    "perfil = B0*np.ones(nodos)\n",
    "eta,thetas = eficiencia(perfil_prueba)\n",
    "print(etas[-2])\n",
    "\n",
    "plt.figure()\n",
    "plt.plot(np.linspace(0,L,nodos),thetas)\n",
    "plt.title('$\\eta$ = {:.2f}'.format(eta))"
   ]
  },
  {
   "cell_type": "code",
   "execution_count": null,
   "metadata": {},
   "outputs": [],
   "source": []
  }
 ],
 "metadata": {
  "kernelspec": {
   "display_name": "Python 3",
   "language": "python",
   "name": "python3"
  },
  "language_info": {
   "codemirror_mode": {
    "name": "ipython",
    "version": 3
   },
   "file_extension": ".py",
   "mimetype": "text/x-python",
   "name": "python",
   "nbconvert_exporter": "python",
   "pygments_lexer": "ipython3",
   "version": "3.7.4"
  }
 },
 "nbformat": 4,
 "nbformat_minor": 4
}
