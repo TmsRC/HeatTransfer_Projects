{
 "cells": [
  {
   "cell_type": "code",
   "execution_count": 1,
   "metadata": {},
   "outputs": [],
   "source": [
    "import numpy as np\n",
    "import matplotlib.pyplot as plt"
   ]
  },
  {
   "cell_type": "code",
   "execution_count": 4,
   "metadata": {},
   "outputs": [],
   "source": [
    "h = 2\n",
    "q = 1\n",
    "d = 1/3\n",
    "\n",
    "# Matriz de coeficientes\n",
    "a = np.zeros((12,12))\n",
    "\n",
    "a[0,0]= -2*(h*d+1); a[0,1]=1; a[0,4]=1 #Cada renglón es una ecuación\n",
    "a[1,1]= -2*(h*d+2); a[1,5]=2; a[1,0]=1; a[1,2]=1\n",
    "a[2,2]= -2*(h*d+2); a[2,6]=2; a[2,1]=1; a[2,3]=1\n",
    "a[3,3]= -2*(h*d+1); a[3,2]=1; a[3,7]=1;\n",
    "\n",
    "a[4,4]= -2*(h*d+2); a[4,5]=2; a[4,0]=1; a[4,8]=1\n",
    "a[5,5]= -4; a[5,1]=1; a[5,4]=1; a[5,6]=1; a[5,9]=1\n",
    "a[6,6]= -4; a[6,2]=1; a[6,5]=1; a[6,7]=1; a[6,10] = 1\n",
    "a[7,7]= -4; a[7,6]=2; a[7,3]=1; a[7,11] = 1\n",
    "\n",
    "a[8,8]= -2; a[8,4]=1; a[8,9]=1\n",
    "a[9,9]= -4; a[9,5]=2; a[9,8]=1; a[9,10] = 1\n",
    "a[10,10]= -4; a[10,6]=2; a[10,9]=1; a[10,11]=1\n",
    "a[11,11]= -2; a[11,7]=1; a[11,10]=1"
   ]
  },
  {
   "cell_type": "code",
   "execution_count": 5,
   "metadata": {},
   "outputs": [
    {
     "name": "stdout",
     "output_type": "stream",
     "text": [
      "[[0.045 0.073 0.079 0.059]\n",
      " [0.077 0.133 0.144 0.119]\n",
      " [0.101 0.125 0.135 0.127]]\n"
     ]
    },
    {
     "data": {
      "image/png": "[encoded data removed]",
      "text/plain": [
       "<Figure size 432x288 with 2 Axes>"
      ]
     },
     "metadata": {
      "needs_background": "light"
     },
     "output_type": "display_data"
    }
   ],
   "source": [
    "# Vector de constantes\n",
    "y = np.zeros(12)\n",
    "y[5] = -q*d**2; y[6]=-q*d**2\n",
    "\n",
    "# Solución\n",
    "thetas = np.matmul(np.linalg.inv(a),y) # Vector de solución\n",
    "thetas = thetas.reshape(3,4) # Arreglo bidimensional de temperaturas\n",
    "thetas_aprox = np.around(thetas,decimals=3) # Arreglo aproximado a tres cifras decimales\n",
    "print(thetas_aprox)\n",
    "\n",
    "# Mapa de calor\n",
    "plt.imshow(thetas,cmap='RdBu_r') #afmhot\n",
    "plt.colorbar()\n",
    "plt.show()"
   ]
  },
  {
   "cell_type": "code",
   "execution_count": null,
   "metadata": {},
   "outputs": [],
   "source": []
  },
  {
   "cell_type": "code",
   "execution_count": null,
   "metadata": {},
   "outputs": [],
   "source": []
  }
 ],
 "metadata": {
  "kernelspec": {
   "display_name": "Python 3",
   "language": "python",
   "name": "python3"
  },
  "language_info": {
   "codemirror_mode": {
    "name": "ipython",
    "version": 3
   },
   "file_extension": ".py",
   "mimetype": "text/x-python",
   "name": "python",
   "nbconvert_exporter": "python",
   "pygments_lexer": "ipython3",
   "version": "3.7.4"
  }
 },
 "nbformat": 4,
 "nbformat_minor": 4
}
