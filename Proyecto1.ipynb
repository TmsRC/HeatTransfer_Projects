{
 "cells": [
  {
   "cell_type": "code",
   "execution_count": 7,
   "metadata": {},
   "outputs": [],
   "source": [
    "import numpy as np\n",
    "import matplotlib.pyplot as plt"
   ]
  },
  {
   "cell_type": "code",
   "execution_count": 8,
   "metadata": {},
   "outputs": [],
   "source": [
    "k = 1\n",
    "h = 1\n",
    "B0 = 1\n",
    "B1 = 1\n",
    "w = 1\n",
    "L = 8\n",
    "theta_B = 40\n",
    "\n",
    "nodos = 20"
   ]
  },
  {
   "cell_type": "code",
   "execution_count": 9,
   "metadata": {},
   "outputs": [],
   "source": [
    "def eficiencia(perfil):\n",
    "    perfil_prueba = B0*np.ones(nodos)\n",
    "    P = 2*(perfil+B1+w)\n",
    "    A = (B1+perfil)*w\n",
    "    dx = L/nodos\n",
    "\n",
    "    coeficientes = np.zeros((nodos,nodos))\n",
    "    coeficientes[0,0] = 1 #Theta(0) = Theta_B\n",
    "    \n",
    "    coeficientes[-1,-1] = 3\n",
    "    coeficientes[-1,-2] = -4\n",
    "    coeficientes[-1,-3] = 1 #theta_i-2 - 4theta_i-1 + 3theta_i = 2theta_prima*deltaX\n",
    "\n",
    "    constantes = np.zeros(nodos)\n",
    "    constantes[0] = theta_B\n",
    "\n",
    "    for i in range(1,nodos-1):\n",
    "\n",
    "        coeficientes[i,i] = -2*A[i] - h*P[i]*dx**2/k\n",
    "        coeficientes[i,i-1] = A[i]-(A[i+1]-A[i-1])/4\n",
    "        coeficientes[i,i+1] = A[i]+(A[i+1]-A[i-1])/4\n",
    "\n",
    "    A_inv = np.linalg.inv(coeficientes)\n",
    "    Thetas = np.matmul(A_inv,constantes)\n",
    "    \n",
    "    Q = np.trapz(h*P*Thetas,np.linspace(0,L,nodos))\n",
    "    Qm = np.trapz(h*P*theta_B,np.linspace(0,L,nodos))\n",
    "    Eta = Q/Qm\n",
    "    return Eta, Thetas"
   ]
  },
  {
   "cell_type": "code",
   "execution_count": 10,
   "metadata": {},
   "outputs": [],
   "source": [
    "perfil_prueba = B0*np.ones(nodos)\n",
    "paso = 0.01\n",
    "cambio = 1\n",
    "\n",
    "#while cambio > 0.0001:\n",
    "for j in range(10):\n",
    "    gradiente = [0]\n",
    "    eta,thetas = eficiencia(perfil_prueba)\n",
    "    for i in range(1,nodos):\n",
    "\n",
    "        perfil_nuevo = perfil_prueba.copy()\n",
    "        perfil_nuevo[i] += paso\n",
    "        eta_i,thetas = eficiencia(perfil_nuevo)\n",
    "        nabla_i = (eta_i-eta)\n",
    "        nabla_i *= (1.*(nabla_i<0))#*(1.*(perfil_nuevo[i]>0))\n",
    "        gradiente.append(nabla_i)\n",
    "\n",
    "    gradiente = np.array(gradiente)*10\n",
    "    #cambio = np.sum(np.square(gradiente))\n",
    "    perfil_prueba = perfil_prueba+gradiente"
   ]
  },
  {
   "cell_type": "code",
   "execution_count": 11,
   "metadata": {},
   "outputs": [
    {
     "name": "stdout",
     "output_type": "stream",
     "text": [
      "[ 0.00000000e+00  0.00000000e+00  0.00000000e+00 -7.38200004e-05\n",
      " -1.34264791e-04 -1.44658046e-04 -1.44713115e-04 -1.43402896e-04\n",
      " -1.42395427e-04 -1.41796700e-04 -1.41470650e-04 -1.41299611e-04\n",
      " -1.41211445e-04 -1.41166387e-04 -1.41143462e-04 -1.41131832e-04\n",
      " -1.41125949e-04 -1.41118373e-04 -1.41119160e-04 -7.05740773e-05]\n"
     ]
    },
    {
     "data": {
      "image/png": "[encoded data removed]",
      "text/plain": [
       "<Figure size 432x288 with 1 Axes>"
      ]
     },
     "metadata": {
      "needs_background": "light"
     },
     "output_type": "display_data"
    }
   ],
   "source": [
    "plt.figure()\n",
    "plt.plot(np.linspace(0,L,20),perfil_prueba)\n",
    "plt.plot(np.linspace(0,L,20),B0*np.ones(nodos))\n",
    "#plt.ylim(1.-1E-4,1.+1E-4)\n",
    "print(gradiente)"
   ]
  },
  {
   "cell_type": "code",
   "execution_count": 12,
   "metadata": {},
   "outputs": [
    {
     "data": {
      "text/plain": [
       "[<matplotlib.lines.Line2D at 0x7f2cd10b3ed0>]"
      ]
     },
     "execution_count": 12,
     "metadata": {},
     "output_type": "execute_result"
    },
    {
     "data": {
      "image/png": "[encoded data removed]",
      "text/plain": [
       "<Figure size 432x288 with 1 Axes>"
      ]
     },
     "metadata": {
      "needs_background": "light"
     },
     "output_type": "display_data"
    }
   ],
   "source": [
    "perfil = B0*np.ones(nodos)\n",
    "eta,thetas = eficiencia(perfil)\n",
    "\n",
    "plt.figure()\n",
    "plt.plot(np.linspace(0,L,nodos),thetas)"
   ]
  },
  {
   "cell_type": "code",
   "execution_count": null,
   "metadata": {},
   "outputs": [],
   "source": []
  }
 ],
 "metadata": {
  "kernelspec": {
   "display_name": "Python 3",
   "language": "python",
   "name": "python3"
  },
  "language_info": {
   "codemirror_mode": {
    "name": "ipython",
    "version": 3
   },
   "file_extension": ".py",
   "mimetype": "text/x-python",
   "name": "python",
   "nbconvert_exporter": "python",
   "pygments_lexer": "ipython3",
   "version": "3.7.6"
  }
 },
 "nbformat": 4,
 "nbformat_minor": 4
}
