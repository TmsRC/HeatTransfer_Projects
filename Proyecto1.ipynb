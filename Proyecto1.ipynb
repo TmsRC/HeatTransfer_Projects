{
 "cells": [
  {
   "cell_type": "code",
   "execution_count": 1,
   "metadata": {},
   "outputs": [],
   "source": [
    "import numpy as np\n",
    "import matplotlib.pyplot as plt\n",
    "import time"
   ]
  },
  {
   "cell_type": "code",
   "execution_count": 2,
   "metadata": {},
   "outputs": [],
   "source": [
    "k = 1\n",
    "h = 1\n",
    "B0 = 1\n",
    "B1 = 1\n",
    "w = 1\n",
    "L = 8\n",
    "theta_B = 40\n",
    "\n",
    "nodos = 20"
   ]
  },
  {
   "cell_type": "code",
   "execution_count": 3,
   "metadata": {},
   "outputs": [],
   "source": [
    "def eficiencia(perfil):\n",
    "    perfil_inferior = B1*(1-np.linspace(0,1,nodos))\n",
    "    P = 2*(perfil+perfil_inferior+w)\n",
    "    A = (perfil_inferior+perfil)*w\n",
    "    dx = L/nodos\n",
    "\n",
    "    coeficientes = np.zeros((nodos,nodos))\n",
    "    coeficientes[0,0] = 1 #Theta(0) = Theta_B\n",
    "    \n",
    "    coeficientes[-1,-1] = 3\n",
    "    coeficientes[-1,-2] = -4\n",
    "    coeficientes[-1,-3] = 1 #theta_i-2 - 4theta_i-1 + 3theta_i = 2theta_prima*deltaX\n",
    "\n",
    "    constantes = np.zeros(nodos)\n",
    "    constantes[0] = theta_B\n",
    "\n",
    "    for i in range(1,nodos-1):\n",
    "\n",
    "        coeficientes[i,i] = -2*A[i] - h*P[i]*dx**2/k\n",
    "        coeficientes[i,i-1] = A[i]-(A[i+1]-A[i-1])/4\n",
    "        coeficientes[i,i+1] = A[i]+(A[i+1]-A[i-1])/4\n",
    "\n",
    "    A_inv = np.linalg.inv(coeficientes)\n",
    "    Thetas = np.matmul(A_inv,constantes)\n",
    "    \n",
    "    Q = np.trapz(h*P*Thetas,np.linspace(0,L,nodos))\n",
    "    Qm = np.trapz(h*P*theta_B,np.linspace(0,L,nodos))\n",
    "    Eta = Q/Qm\n",
    "    return Eta, Thetas"
   ]
  },
  {
   "cell_type": "code",
   "execution_count": 4,
   "metadata": {},
   "outputs": [
    {
     "name": "stdout",
     "output_type": "stream",
     "text": [
      "(0.08039602770173988, array([4.00000000e+01, 2.02715156e+01, 1.02733586e+01, 5.20641370e+00,\n",
      "       2.63854741e+00, 1.33718388e+00, 6.77668602e-01, 3.43434257e-01,\n",
      "       1.74048356e-01, 8.82056654e-02, 4.47016942e-02, 2.26545363e-02,\n",
      "       1.14815557e-02, 5.81972193e-03, 2.95135467e-03, 1.49963765e-03,\n",
      "       7.67746710e-04, 4.04374186e-04, 2.35101271e-04, 1.78676966e-04]))\n"
     ]
    }
   ],
   "source": [
    "print(eficiencia(B0*np.ones(nodos)))"
   ]
  },
  {
   "cell_type": "code",
   "execution_count": 5,
   "metadata": {},
   "outputs": [
    {
     "name": "stdout",
     "output_type": "stream",
     "text": [
      "Tiempo por iteración = 0.46\n",
      "Iteraciones = 500\n"
     ]
    }
   ],
   "source": [
    "perfil_prueba = B0*np.ones(nodos)\n",
    "paso = 0.1\n",
    "cambio = [] #1\n",
    "etas = []\n",
    "#cambio_min = 1E-4\n",
    "iteraciones = 500\n",
    "\n",
    "tiempo0 = time.time()\n",
    "\n",
    "#while cambio > cambio_min:\n",
    "for j in range(iteraciones):\n",
    "    gradiente = [0]\n",
    "    eta,thetas = eficiencia(perfil_prueba)\n",
    "    etas.append(eta)\n",
    "    for i in range(1,nodos):\n",
    "\n",
    "        perfil_nuevo = perfil_prueba.copy()\n",
    "        perfil_nuevo[i] += paso\n",
    "        eta_i,thetas = eficiencia(perfil_nuevo)\n",
    "        nabla_i = (eta_i-eta)\n",
    "        #nabla_i *= (1.*(nabla_i<0))#*(1.*(perfil_nuevo[i]>0))\n",
    "        if nabla_i*10 + perfil_prueba[i] <= 0 or nabla_i*10+perfil_prueba[i]>B0:\n",
    "            nabla_i = 0\n",
    "        gradiente.append(nabla_i)\n",
    "\n",
    "    gradiente = np.array(gradiente)*20\n",
    "    cambio.append(np.sum(np.abs(gradiente)))\n",
    "    #print(cambio)\n",
    "    perfil_prueba = perfil_prueba+gradiente\n",
    "    #iteraciones += 1.\n",
    "    \n",
    "#     if iteraciones > 1000:\n",
    "#         break\n",
    "\n",
    "print('Tiempo por iteración = {:.2f}'.format((time.time()-tiempo0)/iteraciones))\n",
    "print('Iteraciones = ' + str(iteraciones))"
   ]
  },
  {
   "cell_type": "code",
   "execution_count": 6,
   "metadata": {},
   "outputs": [
    {
     "name": "stdout",
     "output_type": "stream",
     "text": [
      "[0 0 0 0 0 0 0 0 0 0 0 0 0 0 0 0 0 0 0 0]\n"
     ]
    },
    {
     "data": {
      "text/plain": [
       "[<matplotlib.lines.Line2D at 0x7fd5fedb1750>]"
      ]
     },
     "execution_count": 6,
     "metadata": {},
     "output_type": "execute_result"
    },
    {
     "data": {
      "image/png": "[encoded data removed]",
      "text/plain": [
       "<Figure size 432x288 with 1 Axes>"
      ]
     },
     "metadata": {
      "needs_background": "light"
     },
     "output_type": "display_data"
    },
    {
     "data": {
      "image/png": "[encoded data removed]",
      "text/plain": [
       "<Figure size 432x288 with 1 Axes>"
      ]
     },
     "metadata": {
      "needs_background": "light"
     },
     "output_type": "display_data"
    }
   ],
   "source": [
    "eta,thetas = eficiencia(perfil_prueba)\n",
    "\n",
    "plt.figure()\n",
    "plt.plot(np.linspace(0,L,20),perfil_prueba)\n",
    "plt.plot(np.linspace(0,L,20),B0*np.ones(nodos))\n",
    "plt.ylim(0,1.1)\n",
    "plt.title('Eta = {:.2f}'.format(eta))\n",
    "print(gradiente)\n",
    "\n",
    "plt.figure()\n",
    "plt.plot(np.linspace(1,len(cambio),len(cambio)),cambio)\n",
    "plt.plot(np.linspace(1,len(cambio),len(cambio)),etas)"
   ]
  },
  {
   "cell_type": "code",
   "execution_count": 7,
   "metadata": {},
   "outputs": [
    {
     "data": {
      "text/plain": [
       "Text(0.5, 1.0, 'Eta = 0.08')"
      ]
     },
     "execution_count": 7,
     "metadata": {},
     "output_type": "execute_result"
    },
    {
     "data": {
      "image/png": "[encoded data removed]",
      "text/plain": [
       "<Figure size 432x288 with 1 Axes>"
      ]
     },
     "metadata": {
      "needs_background": "light"
     },
     "output_type": "display_data"
    }
   ],
   "source": [
    "perfil = B0*np.ones(nodos)\n",
    "eta,thetas = eficiencia(perfil)\n",
    "\n",
    "plt.figure()\n",
    "plt.plot(np.linspace(0,L,nodos),thetas)\n",
    "plt.title('Eta = {:.2f}'.format(eta))"
   ]
  },
  {
   "cell_type": "code",
   "execution_count": null,
   "metadata": {},
   "outputs": [],
   "source": []
  }
 ],
 "metadata": {
  "kernelspec": {
   "display_name": "Python 3",
   "language": "python",
   "name": "python3"
  },
  "language_info": {
   "codemirror_mode": {
    "name": "ipython",
    "version": 3
   },
   "file_extension": ".py",
   "mimetype": "text/x-python",
   "name": "python",
   "nbconvert_exporter": "python",
   "pygments_lexer": "ipython3",
   "version": "3.7.6"
  }
 },
 "nbformat": 4,
 "nbformat_minor": 4
}
