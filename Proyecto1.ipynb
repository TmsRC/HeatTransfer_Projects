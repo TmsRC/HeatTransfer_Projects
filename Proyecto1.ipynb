{
 "cells": [
  {
   "cell_type": "code",
   "execution_count": 1,
   "metadata": {},
   "outputs": [],
   "source": [
    "import numpy as np\n",
    "import matplotlib.pyplot as plt"
   ]
  },
  {
   "cell_type": "code",
   "execution_count": 2,
   "metadata": {},
   "outputs": [],
   "source": [
    "k = 1\n",
    "h = 1\n",
    "B0 = 1\n",
    "B1 = 1\n",
    "w = 1\n",
    "L = 8\n",
    "theta_B = 80"
   ]
  },
  {
   "cell_type": "code",
   "execution_count": 3,
   "metadata": {},
   "outputs": [],
   "source": [
    "nodos = 20\n",
    "\n",
    "def eficiencia(perfil):\n",
    "    perfil_prueba = B0*np.ones(nodos)\n",
    "    P = 2*(perfil+B1+w)\n",
    "    A = (B1+perfil)*w\n",
    "    dx = L/nodos\n",
    "\n",
    "    coeficientes = np.zeros((nodos-1,nodos-1))\n",
    "    coeficientes[0,0] = -2*k*A[1]/dx**2\n",
    "    coeficientes[0,1] = k/dx**2*(A[1]+(A[2]-A[0])/2)\n",
    "    coeficientes[-1,-1] = -1\n",
    "    coeficientes[-1,-2] = 1\n",
    "\n",
    "    constantes = np.zeros(nodos-1)\n",
    "    constantes[0] = -theta_B*k/dx**2*(A[1]-(A[2]-A[0])/2)\n",
    "\n",
    "    for i in range(1,nodos-2):\n",
    "\n",
    "        coeficientes[i,i] = -2*k*A[i]/dx**2 - h*P[i]\n",
    "        coeficientes[i,i-1] = k/dx**2*(A[i]-(A[i+1]-A[i-1])/2)\n",
    "        coeficientes[i,i+1] = k/dx**2*(A[i]+(A[i+1]-A[i-1])/2)\n",
    "\n",
    "    A_inv = np.linalg.inv(coeficientes)\n",
    "    Thetas = np.matmul(A_inv,constantes)\n",
    "    \n",
    "    Q = np.trapz(h*P[1:20]*Thetas,np.linspace(1,L,nodos-1))\n",
    "    Qm = h*theta_B*L\n",
    "    Eta = Q/Qm\n",
    "    return Eta"
   ]
  },
  {
   "cell_type": "code",
   "execution_count": 4,
   "metadata": {},
   "outputs": [
    {
     "name": "stdout",
     "output_type": "stream",
     "text": [
      "0.29837040405245563\n",
      "0.317448781158113\n"
     ]
    }
   ],
   "source": [
    "perfil_prueba = B0*np.ones(nodos)\n",
    "eta = eficiencia(perfil_prueba)\n",
    "print(eta)\n",
    "gradiente = []\n",
    "for i in range(len(perfil_prueba)):\n",
    "    perfil_nuevo = perfil_prueba\n",
    "    perfil_nuevo[i]+=0.01\n",
    "    eta_i = eficiencia(perfil_prueba)\n",
    "    gradiente.append((eta_i-eta)/0.01)\n",
    "print(eficiencia(perfil_prueba+gradiente))"
   ]
  },
  {
   "cell_type": "code",
   "execution_count": 5,
   "metadata": {},
   "outputs": [],
   "source": [
    "#plt.figure()\n",
    "#plt.plot(np.linspace(0,L,19),Thetas)"
   ]
  },
  {
   "cell_type": "code",
   "execution_count": null,
   "metadata": {},
   "outputs": [],
   "source": []
  }
 ],
 "metadata": {
  "kernelspec": {
   "display_name": "Python 3",
   "language": "python",
   "name": "python3"
  },
  "language_info": {
   "codemirror_mode": {
    "name": "ipython",
    "version": 3
   },
   "file_extension": ".py",
   "mimetype": "text/x-python",
   "name": "python",
   "nbconvert_exporter": "python",
   "pygments_lexer": "ipython3",
   "version": "3.7.6"
  }
 },
 "nbformat": 4,
 "nbformat_minor": 4
}
