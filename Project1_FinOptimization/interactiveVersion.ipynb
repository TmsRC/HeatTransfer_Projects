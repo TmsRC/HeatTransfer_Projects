{
 "cells": [
  {
   "cell_type": "code",
   "execution_count": 13,
   "metadata": {},
   "outputs": [],
   "source": [
    "import numpy as np\n",
    "import matplotlib.pyplot as plt\n",
    "import time\n",
    "import imageio\n",
    "import os"
   ]
  },
  {
   "cell_type": "code",
   "execution_count": 15,
   "metadata": {},
   "outputs": [
    {
     "data": {
      "text/plain": [
       "array([0.3       , 0.29999916, 0.29999915, 0.29999914, 0.29999913,\n",
       "       0.29999912, 0.29999912, 0.29999911, 0.2999991 , 0.29999909,\n",
       "       0.29999907, 0.29999906, 0.29999905, 0.29999904, 0.29999903,\n",
       "       0.29999902, 0.299999  , 0.29999899, 0.29999775, 0.29999511,\n",
       "       0.2999925 , 0.29998992, 0.29998737, 0.29998484, 0.29998234,\n",
       "       0.29997986, 0.2999774 , 0.29997496, 0.29997254, 0.29997014,\n",
       "       0.29996775, 0.29996537, 0.29996301, 0.29996065, 0.2999583 ,\n",
       "       0.29995596, 0.29995362, 0.29995128, 0.29994729, 0.2999426 ,\n",
       "       0.29993796, 0.29993337, 0.29992881, 0.2999243 , 0.29991981,\n",
       "       0.29991536, 0.29991094, 0.29990654, 0.29990217, 0.29989781,\n",
       "       0.29989347, 0.29988914, 0.29988483, 0.29988052, 0.29987495,\n",
       "       0.29986939, 0.29986222, 0.2982843 , 0.29444503, 0.28886769,\n",
       "       0.2817018 , 0.27401116, 0.26642293, 0.25892486, 0.25147361,\n",
       "       0.24406592, 0.23670255, 0.2293827 , 0.2221053 , 0.21486924,\n",
       "       0.20767334, 0.20051628, 0.19339664, 0.18631283, 0.17926303,\n",
       "       0.17224519, 0.1652569 , 0.15829535, 0.15135718, 0.14443832,\n",
       "       0.13753378, 0.13063731, 0.12374099, 0.11683457, 0.10990449,\n",
       "       0.10293241, 0.09589283, 0.08874902, 0.08144489, 0.07388806,\n",
       "       0.06591579, 0.05728143, 0.0480722 , 0.0389167 , 0.03506156,\n",
       "       0.03506156, 0.0005602 , 0.0005602 , 0.0005602 , 0.0005602 ])"
      ]
     },
     "execution_count": 15,
     "metadata": {},
     "output_type": "execute_result"
    }
   ],
   "source": [
    "nodos = 100\n",
    "L = 1\n",
    "k = 1\n",
    "w = 1\n",
    "theta_B = 40"
   ]
  },
  {
   "cell_type": "code",
   "execution_count": 3,
   "metadata": {},
   "outputs": [],
   "source": [
    "def eficiencia(perfil,params):\n",
    "    \n",
    "    L,k,h,B0,B1,w,theta_B = params\n",
    "    \n",
    "    perfil_inferior = B1*(1-np.linspace(0,1,nodos))\n",
    "    P = 2*(perfil+perfil_inferior+w)\n",
    "    A = (perfil_inferior+perfil)*w\n",
    "    dx = L/nodos\n",
    "\n",
    "    coeficientes = np.zeros((nodos,nodos))\n",
    "    coeficientes[0,0] = 1 #Theta(0) = Theta_B\n",
    "    \n",
    "    coeficientes[-1,-1] = 3\n",
    "    coeficientes[-1,-2] = -4\n",
    "    coeficientes[-1,-3] = 1 #theta_i-2 - 4theta_i-1 + 3theta_i = 2theta_prima*deltaX\n",
    "\n",
    "    constantes = np.zeros(nodos)\n",
    "    constantes[0] = theta_B\n",
    "\n",
    "    for i in range(1,nodos-1):\n",
    "\n",
    "        coeficientes[i,i] = -2*A[i] - (h/k)*P[i]*dx**2\n",
    "        coeficientes[i,i-1] = A[i]-(A[i+1]-A[i-1])/4\n",
    "        coeficientes[i,i+1] = A[i]+(A[i+1]-A[i-1])/4\n",
    "\n",
    "    A_inv = np.linalg.inv(coeficientes)\n",
    "    Thetas = np.matmul(A_inv,constantes)\n",
    "    \n",
    "    Q = np.trapz(h*P*Thetas,np.linspace(0,L,nodos))\n",
    "    Qm = np.trapz(h*P*theta_B,np.linspace(0,L,nodos))\n",
    "    Eta = Q/Qm\n",
    "    return Eta, Thetas"
   ]
  },
  {
   "cell_type": "code",
   "execution_count": 4,
   "metadata": {},
   "outputs": [],
   "source": [
    "h = 0.2\n",
    "B0 = 0.3\n",
    "B1 = 0.3\n",
    "perfil_tri = B0-np.linspace(0,B0,nodos)\n",
    "params = L,k,h,B0,B1,w,theta_B\n",
    "etaTri,thetasTri = eficiencia(perfil_tri,params)\n",
    "\n",
    "h = 0.2\n",
    "B0 = 0.3\n",
    "B1 = 0\n",
    "perfil_rect = B0*np.ones(nodos)\n",
    "params = L,k,h,B0,B1,w,theta_B\n",
    "etaRect,thetasRect = eficiencia(perfil_rect,params)"
   ]
  },
  {
   "cell_type": "code",
   "execution_count": 5,
   "metadata": {},
   "outputs": [
    {
     "name": "stdout",
     "output_type": "stream",
     "text": [
      "--------------------------------------------------------------\n",
      "--------------------------------------------------------------\n",
      "\n",
      "Eficiencia aleta triangular = 0.756\n",
      "Eficiencia aleta rectangular = 0.662\n",
      "\n",
      "--------------------------------------------------------------\n",
      "--------------------------------------------------------------\n"
     ]
    }
   ],
   "source": [
    "print('--------------------------------------------------------------')\n",
    "print('--------------------------------------------------------------')\n",
    "print()\n",
    "print('Eficiencia aleta triangular = {:.3f}'.format(etaTri))\n",
    "print('Eficiencia aleta rectangular = {:.3f}'.format(etaRect))\n",
    "print()\n",
    "print('--------------------------------------------------------------')\n",
    "print('--------------------------------------------------------------')\n",
    "\n",
    "\n",
    "# plt.figure()\n",
    "# plt.plot(np.linspace(0,L,nodos),thetasRect)\n",
    "# plt.close()\n",
    "\n",
    "plt.figure()\n",
    "plt.plot(np.linspace(0,L,nodos),thetasTri)\n",
    "plt.close()"
   ]
  },
  {
   "cell_type": "code",
   "execution_count": 6,
   "metadata": {},
   "outputs": [
    {
     "ename": "NameError",
     "evalue": "name 'paso' is not defined",
     "output_type": "error",
     "traceback": [
      "\u001b[1;31m---------------------------------------------------------------------------\u001b[0m",
      "\u001b[1;31mNameError\u001b[0m                                 Traceback (most recent call last)",
      "\u001b[1;32m<ipython-input-6-14d742dc0ca8>\u001b[0m in \u001b[0;36m<module>\u001b[1;34m\u001b[0m\n\u001b[0;32m     28\u001b[0m \u001b[1;33m\u001b[0m\u001b[0m\n\u001b[0;32m     29\u001b[0m         \u001b[0mperfil_nuevo\u001b[0m \u001b[1;33m=\u001b[0m \u001b[0mperfil_prueba\u001b[0m\u001b[1;33m.\u001b[0m\u001b[0mcopy\u001b[0m\u001b[1;33m(\u001b[0m\u001b[1;33m)\u001b[0m\u001b[1;33m\u001b[0m\u001b[1;33m\u001b[0m\u001b[0m\n\u001b[1;32m---> 30\u001b[1;33m         \u001b[0mperfil_nuevo\u001b[0m\u001b[1;33m[\u001b[0m\u001b[0mi\u001b[0m\u001b[1;33m]\u001b[0m \u001b[1;33m+=\u001b[0m \u001b[0mpaso\u001b[0m\u001b[1;33m\u001b[0m\u001b[1;33m\u001b[0m\u001b[0m\n\u001b[0m\u001b[0;32m     31\u001b[0m         \u001b[0meta_i\u001b[0m\u001b[1;33m,\u001b[0m\u001b[0mthetas\u001b[0m \u001b[1;33m=\u001b[0m \u001b[0meficiencia\u001b[0m\u001b[1;33m(\u001b[0m\u001b[0mperfil_nuevo\u001b[0m\u001b[1;33m,\u001b[0m\u001b[0mparams\u001b[0m\u001b[1;33m)\u001b[0m\u001b[1;33m\u001b[0m\u001b[1;33m\u001b[0m\u001b[0m\n\u001b[0;32m     32\u001b[0m         \u001b[0mnabla_i\u001b[0m \u001b[1;33m=\u001b[0m \u001b[1;33m(\u001b[0m\u001b[0meta_i\u001b[0m\u001b[1;33m-\u001b[0m\u001b[0meta\u001b[0m\u001b[1;33m)\u001b[0m\u001b[1;33m\u001b[0m\u001b[1;33m\u001b[0m\u001b[0m\n",
      "\u001b[1;31mNameError\u001b[0m: name 'paso' is not defined"
     ]
    }
   ],
   "source": [
    "tiempo0 = time.time()\n",
    "\n",
    "perfil_prueba = perfil_rect\n",
    "\n",
    "paso = 0.1\n",
    "N_max = 400\n",
    "\n",
    "cambio = []\n",
    "etas = []\n",
    "perfiles = []\n",
    "cte_gradiente = 1/(L*np.sqrt(h/(k*B0)))\n",
    "iteraciones = 0\n",
    "\n",
    "eta = 0\n",
    "eta_nuevo = 1\n",
    "gradiente = np.zeros(nodos)\n",
    "\n",
    "#while eta_nuevo > eta:\n",
    "for j in range(N_max):\n",
    "    \n",
    "    perfil_prueba = perfil_prueba+gradiente\n",
    "    iteraciones += 1\n",
    "    gradiente = [0]\n",
    "    eta,thetas = eficiencia(perfil_prueba,params)\n",
    "    etas.append(eta)\n",
    "    perfiles.append(perfil_prueba)\n",
    "    for i in range(1,nodos):\n",
    "        \n",
    "        perfil_nuevo = perfil_prueba.copy()\n",
    "        perfil_nuevo[i] += paso\n",
    "        eta_i,thetas = eficiencia(perfil_nuevo,params)\n",
    "        nabla_i = (eta_i-eta)\n",
    "        \n",
    "        if nabla_i*cte_gradiente + perfil_prueba[i] <= 0 or nabla_i*cte_gradiente+perfil_prueba[i]>B0:\n",
    "            nabla_i = 0\n",
    "        gradiente.append(nabla_i)\n",
    "\n",
    "    \n",
    "    gradiente = np.array(gradiente)*cte_gradiente\n",
    "    norma_nabla = np.sqrt(np.sum(np.square(gradiente)))\n",
    "    cambio.append(norma_nabla)\n",
    "    \n",
    "    eta_nuevo,thetas = eficiencia(perfil_prueba+gradiente,params)\n",
    "    \n",
    "    \n",
    "\n",
    "print('Tiempo por iteración = {:.2f}'.format((time.time()-tiempo0)/iteraciones))\n",
    "print('Iteraciones = ' + str(iteraciones) + '; Tiempo = ' + str(time.time()-tiempo0))"
   ]
  },
  {
   "cell_type": "code",
   "execution_count": null,
   "metadata": {},
   "outputs": [],
   "source": [
    "color1 = 'slategray'\n",
    "color2 = 'black'\n",
    "with imageio.get_writer('optimization_evolution.gif', mode='I') as writer:\n",
    "    for i in range(N_max):\n",
    "        img = plt.figure(figsize=(12,6))\n",
    "        plt.plot(np.linspace(0,L,nodos),perfiles[i],color=color2)\n",
    "#         plt.plot(np.linspace(0,L,nodos),B0*np.ones(nodos))\n",
    "        plt.plot([0,L],[B1]*2,color=color2)\n",
    "        plt.plot([L,L],[B1,perfiles[i][-1]],color=color2)\n",
    "        plt.fill_between(np.linspace(0,L,nodos),perfiles[i],B1,color=color1)\n",
    "        plt.title('$\\eta$ = {:.2f}'.format(etas[i]))\n",
    "        plt.ylim(B1-0.12,0.42)\n",
    "        plt.savefig(str(i),bbox_inches='tight',transparent=False,facecolor='white')\n",
    "        plt.close(img)\n",
    "        image = imageio.imread(str(i)+\".png\")\n",
    "        writer.append_data(image)\n",
    "        os.remove(str(i)+\".png\")\n",
    "\n",
    "# with imageio.get_writer('optimization_evolution.gif', mode='I') as writer:\n",
    "#     for filename in range(N_max):\n",
    "#         image = imageio.imread(str(filename)+\".png\")\n",
    "#         writer.append_data(image)\n",
    "#         os.remove(str(filename)+\".png\")"
   ]
  },
  {
   "cell_type": "code",
   "execution_count": null,
   "metadata": {},
   "outputs": [],
   "source": [
    "eta,thetas = eficiencia(perfil_prueba,params)\n",
    "\n",
    "plt.figure()\n",
    "plt.plot(np.linspace(0,L,nodos),perfil_prueba)\n",
    "plt.plot(np.linspace(0,L,nodos),B0*np.ones(nodos))\n",
    "plt.ylim(0,B0+0.1)\n",
    "plt.title('$\\eta$ = {:.2f}'.format(eta))\n",
    "\n",
    "plt.figure()\n",
    "plt.plot(np.linspace(0,L,nodos),perfiles[286])\n",
    "plt.plot(np.linspace(0,L,nodos),B0*np.ones(nodos))\n",
    "plt.ylim(0,B0+0.1)\n",
    "plt.title('$\\eta$ = {:.2f}'.format(etas[286]))\n",
    "\n",
    "plt.figure()\n",
    "plt.plot(np.linspace(1,len(cambio),len(cambio)),cambio,label='Magnitud del gradiente')\n",
    "#plt.plot(np.linspace(1,len(cambio),len(cambio)),etas,label = 'Eficiencia')\n",
    "plt.title('Eficiencia y Gradiente en cada iteración')\n",
    "plt.legend(loc=1)"
   ]
  },
  {
   "cell_type": "code",
   "execution_count": null,
   "metadata": {},
   "outputs": [],
   "source": [
    "plt.figure()\n",
    "plt.plot(np.linspace(0,L,nodos),thetas)\n",
    "plt.title('Perfil de temperaturas (Perfil fallido)')\n",
    "\n",
    "eta,thetas = eficiencia(perfiles[286],params)\n",
    "plt.figure()\n",
    "plt.plot(np.linspace(0,L,nodos),thetas)\n",
    "plt.title('Perfil de temperaturas (Mejor perfil)')\n",
    "\n",
    "# plt.figure()\n",
    "# plt.plot(np.linspace(0,L,nodos),B0-np.linspace(0,B0,nodos),c='r')\n",
    "# plt.plot(np.linspace(0,L,nodos),-0.3+np.linspace(0,0.3,nodos),c='r')\n",
    "\n",
    "# plt.plot(np.linspace(0,L,nodos),B0*np.ones(nodos),c='b')\n",
    "# plt.plot(np.linspace(0,L,nodos),0*np.ones(nodos),c='b')"
   ]
  },
  {
   "cell_type": "code",
   "execution_count": null,
   "metadata": {},
   "outputs": [],
   "source": []
  }
 ],
 "metadata": {
  "kernelspec": {
   "display_name": "Python 3",
   "language": "python",
   "name": "python3"
  },
  "language_info": {
   "codemirror_mode": {
    "name": "ipython",
    "version": 3
   },
   "file_extension": ".py",
   "mimetype": "text/x-python",
   "name": "python",
   "nbconvert_exporter": "python",
   "pygments_lexer": "ipython3",
   "version": "3.8.8"
  }
 },
 "nbformat": 4,
 "nbformat_minor": 4
}
